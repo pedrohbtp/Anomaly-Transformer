{
 "cells": [
  {
   "cell_type": "code",
   "execution_count": null,
   "metadata": {},
   "outputs": [],
   "source": [
    "!python3 main.py --anormly_ratio 0.5 --num_epochs 10   --batch_size 256  --mode train --dataset SMD  --data_path dataset/SMD   --input_c 38"
   ]
  },
  {
   "cell_type": "code",
   "execution_count": 20,
   "metadata": {},
   "outputs": [
    {
     "name": "stdout",
     "output_type": "stream",
     "text": [
      "test: (73729, 55)\n",
      "train: (58317, 55)\n",
      "test: (73729, 55)\n",
      "train: (58317, 55)\n",
      "test: (73729, 55)\n",
      "train: (58317, 55)\n",
      "test: (73729, 55)\n",
      "train: (58317, 55)\n"
     ]
    }
   ],
   "source": [
    "import solver\n",
    "import importlib\n",
    "importlib.reload(solver)\n",
    "config = {\n",
    "    'lr': 1e-4,\n",
    "    'num_epochs': 1,#3,\n",
    "    'k': 3,\n",
    "    'win_size': 100,\n",
    "    'input_c': 55,\n",
    "    'output_c': 55,\n",
    "    'batch_size': 1024,\n",
    "    'pretrained_model': None,\n",
    "    'dataset': 'MSL',\n",
    "    'mode': 'train',\n",
    "    'data_path': './dataset/MSL',\n",
    "    'model_save_path': 'checkpoints',\n",
    "    'anormly_ratio': 4\n",
    "}\n",
    "solv = solver.Solver(config)"
   ]
  },
  {
   "cell_type": "code",
   "execution_count": 21,
   "metadata": {},
   "outputs": [
    {
     "name": "stdout",
     "output_type": "stream",
     "text": [
      "======================TRAIN MODE======================\n"
     ]
    },
    {
     "ename": "",
     "evalue": "",
     "output_type": "error",
     "traceback": [
      "\u001b[1;31mCanceled future for execute_request message before replies were done"
     ]
    },
    {
     "ename": "",
     "evalue": "",
     "output_type": "error",
     "traceback": [
      "\u001b[1;31mThe Kernel crashed while executing code in the the current cell or a previous cell. Please review the code in the cell(s) to identify a possible cause of the failure. Click <a href='https://aka.ms/vscodeJupyterKernelCrash'>here</a> for more info. View Jupyter <a href='command:jupyter.viewOutput'>log</a> for further details."
     ]
    }
   ],
   "source": [
    "solv.train()"
   ]
  }
 ],
 "metadata": {
  "kernelspec": {
   "display_name": "base",
   "language": "python",
   "name": "python3"
  },
  "language_info": {
   "codemirror_mode": {
    "name": "ipython",
    "version": 3
   },
   "file_extension": ".py",
   "mimetype": "text/x-python",
   "name": "python",
   "nbconvert_exporter": "python",
   "pygments_lexer": "ipython3",
   "version": "3.9.13"
  },
  "orig_nbformat": 4
 },
 "nbformat": 4,
 "nbformat_minor": 2
}
